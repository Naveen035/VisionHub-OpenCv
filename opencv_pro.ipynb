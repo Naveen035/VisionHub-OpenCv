{
 "cells": [
  {
   "cell_type": "code",
   "execution_count": 8,
   "metadata": {},
   "outputs": [],
   "source": [
    "import cv2\n",
    "import numpy as np\n",
    "path = r\"C:\\Users\\jayas\\OneDrive\\Desktop\\CNN\\Haarcascades\\haarcascade_frontalface_default.xml\"\n",
    "face_classifier = cv2.CascadeClassifier(path)\n",
    "eye_path = r\"C:\\Users\\jayas\\OneDrive\\Desktop\\CNN\\Haarcascades\\haarcascade_eye.xml\"\n",
    "eye_classifier = cv2.CascadeClassifier(eye_path)\n",
    "if face_classifier.empty() or eye_classifier.empty():\n",
    "    raise IOError(\"Please Give the haatcascade file\")\n",
    "\n",
    "image = cv2.imread(r\"C:\\Users\\jayas\\Downloads\\WhatsApp Image 2024-08-30 at 11.29.05 AM.jpeg\")\n",
    "if image is None:\n",
    "    raise IOError(\"Please Upload Image\")\n",
    "gray = cv2.cvtColor(image,cv2.COLOR_BGR2GRAY)\n",
    "faces = face_classifier.detectMultiScale(gray,1.3,5)\n",
    "\n",
    "\n",
    "for x,y,h,w in faces:\n",
    "    cv2.rectangle(image,(x,y),(x+h,y+w),(127,0,255),2)\n",
    "    cv2.imshow(\"Face Detector\",image)\n",
    "    cv2.waitKey(0)\n",
    "    roi_gray = gray[y:y+h,x:x+w]\n",
    "    roi_color = image[y:y+h,x:x+w]\n",
    "    eyes = eye_classifier.detectMultiScale(roi_gray,1.1,5)\n",
    "    for ex,ey,eh,ew in eyes:\n",
    "        cv2.rectangle(roi_color,(ex,ey),(ex+eh,ey+ew),(255,255,0),2)\n",
    "    cv2.imshow(\"Eye detector\",image)\n",
    "    cv2.waitKey(0)\n",
    "    cv2.destroyAllWindows()\n",
    "\n"
   ]
  },
  {
   "cell_type": "code",
   "execution_count": 15,
   "metadata": {},
   "outputs": [],
   "source": [
    "eye_path = r\"C:\\Users\\jayas\\OneDrive\\Desktop\\CNN\\Haarcascades\\haarcascade_eye.xml\"\n",
    "eye_classifier = cv2.CascadeClassifier(eye_path)\n",
    "image = cv2.imread(r\"C:\\Users\\jayas\\Downloads\\new-myphoto5-girl.png\")\n",
    "gray = cv2.cvtColor(image,cv2.COLOR_BGR2GRAY)\n",
    "eyes = eye_classifier.detectMultiScale(gray,1.3,5)\n",
    "for x,y,h,w in eyes:\n",
    "    cv2.rectangle(image,(x,y),(x+w,y+h),(255,255,0),2)\n",
    "cv2.imshow(\"Eye Detector\",image)\n",
    "cv2.waitKey(0)\n",
    "cv2.destroyAllWindows()"
   ]
  },
  {
   "cell_type": "code",
   "execution_count": 1,
   "metadata": {},
   "outputs": [
    {
     "name": "stdout",
     "output_type": "stream",
     "text": [
      "frame not got\n"
     ]
    }
   ],
   "source": [
    "import cv2\n",
    "import numpy as np\n",
    "path = r\"C:\\Users\\jayas\\OneDrive\\Desktop\\CNN\\Haarcascades\\haarcascade_frontalface_default.xml\"\n",
    "face_classifier = cv2.CascadeClassifier(path)\n",
    "def find_face(image,size = 0.5):\n",
    "    gray = cv2.cvtColor(image,cv2.COLOR_BGR2GRAY)\n",
    "    faces = face_classifier.detectMultiScale(gray,1.3,5)\n",
    "    for (x,y,w,h) in faces:\n",
    "        x = x - 50\n",
    "        w = w + 50\n",
    "        y = y - 50\n",
    "        h = h + 50\n",
    "        cv2.rectangle(gray,(x,y),(x+w,y+h),(255,255,0),2)\n",
    "cap = cv2.VideoCapture(0)\n",
    "if not cap.isOpened():\n",
    "    print(\"Not Access to Camera\")\n",
    "    exit()\n",
    "while True:\n",
    "    ret,frame = cap.read()\n",
    "    if not ret:\n",
    "        print(\"frame not got\")\n",
    "        break\n",
    "    cv2.imshow(\"Capture Face\",find_face(frame))\n",
    "    if cv2.waitKey(1) == 13:\n",
    "        break\n",
    "cap.release()\n",
    "cv2.destroyAllWindows()"
   ]
  },
  {
   "cell_type": "code",
   "execution_count": 1,
   "metadata": {},
   "outputs": [
    {
     "name": "stdout",
     "output_type": "stream",
     "text": [
      "Failed to grab frame\n"
     ]
    }
   ],
   "source": [
    "import cv2\n",
    "import numpy as np\n",
    "\n",
    "# Path to the Haar Cascade XML file\n",
    "path = r\"C:\\Users\\jayas\\OneDrive\\Desktop\\CNN\\Haarcascades\\haarcascade_frontalface_default.xml\"\n",
    "face_classifier = cv2.CascadeClassifier(path)\n",
    "eye_path = r\"C:\\Users\\jayas\\OneDrive\\Desktop\\CNN\\Haarcascades\\haarcascade_eye.xml\"\n",
    "eye_classifier = cv2.CascadeClassifier(eye_path)\n",
    "\n",
    "# Check if the cascade file loaded successfully\n",
    "if face_classifier.empty():\n",
    "    print(\"Error loading cascade file.\")\n",
    "    exit()\n",
    "\n",
    "def find_face(image, size=0.5):\n",
    "    # Convert image to grayscale\n",
    "    gray = cv2.cvtColor(image, cv2.COLOR_BGR2GRAY)\n",
    "\n",
    "    # Detect faces in the grayscale image\n",
    "    faces = face_classifier.detectMultiScale(gray, 1.3, 5)\n",
    "\n",
    "    for (x, y, w, h) in faces:\n",
    "        # Expand rectangle and ensure boundaries are within image size\n",
    "        x = max(x - 50, 0)\n",
    "        y = max(y - 50, 0)\n",
    "        w = min(w + 50, image.shape[1] - x)\n",
    "        h = min(h + 50, image.shape[0] - y)\n",
    "\n",
    "        # Draw rectangle around face\n",
    "        cv2.rectangle(image, (x, y), (x + w, y + h), (255, 255, 0), 2)\n",
    "\n",
    "    return image\n",
    "\n",
    "# Open the camera\n",
    "cap = cv2.VideoCapture(0)\n",
    "if not cap.isOpened():\n",
    "    print(\"Error: Could not open camera.\")\n",
    "    exit()\n",
    "\n",
    "while True:\n",
    "    ret, frame = cap.read()\n",
    "    if not ret:\n",
    "        print(\"Failed to grab frame\")\n",
    "        break\n",
    "\n",
    "    # Process the frame and display the result\n",
    "    cv2.imshow(\"Capture Face\", find_face(frame))\n",
    "    \n",
    "    if cv2.waitKey(1) == 13:  # Exit on Enter key\n",
    "        break\n",
    "\n",
    "cap.release()\n",
    "cv2.destroyAllWindows()\n"
   ]
  },
  {
   "cell_type": "code",
   "execution_count": 2,
   "metadata": {},
   "outputs": [
    {
     "name": "stdout",
     "output_type": "stream",
     "text": [
      "Error: Could not open camera.\n"
     ]
    }
   ],
   "source": [
    "import cv2\n",
    "\n",
    "cap = cv2.VideoCapture(1)\n",
    "if not cap.isOpened():\n",
    "    print(\"Error: Could not open camera.\")\n",
    "else:\n",
    "    ret, frame = cap.read()\n",
    "    if not ret:\n",
    "        print(\"Error: Could not capture frame.\")\n",
    "    else:\n",
    "        print(\"Frame captured successfully.\")\n",
    "    cap.release()\n"
   ]
  },
  {
   "cell_type": "code",
   "execution_count": 2,
   "metadata": {},
   "outputs": [],
   "source": [
    "\n",
    "import cv2\n",
    "eye_path = r\"C:\\Users\\jayas\\OneDrive\\Desktop\\CNN\\Haarcascades\\haarcascade_eye.xml\"\n",
    "eye_classifier = cv2.CascadeClassifier(eye_path)\n",
    "\n",
    "if eye_classifier.empty():\n",
    "    print(\"No Path Found\")\n",
    "\n",
    "def find_eye(image,size = 0.5):\n",
    "    grey = cv2.cvtColor(image,cv2.COLOR_BGR2GRAY)\n",
    "    eyes = eye_classifier.detectMultiScale(grey,1.3,5)\n",
    "    for (x,y,w,h) in eyes:\n",
    "        x = max(x - 50, 0)\n",
    "        y = max(y - 50, 0)\n",
    "        w = min(w + 50, image.shape[1] - x)\n",
    "        h = min(h + 50, image.shape[0] - y)\n",
    "        cv2.rectangle(image,(x,y),(x+w,y+h),(255,255,0),2)\n",
    "    return image\n",
    "cap = cv2.VideoCapture(0)\n",
    "if not cap.isOpened():\n",
    "    print(\"Cam not get access\")\n",
    "    exit()\n",
    "while True:\n",
    "    ret,frame = cap.read()\n",
    "    if not ret:\n",
    "        print(\"Frame not Found\")\n",
    "        break\n",
    "    cv2.imshow(\"Eyes detector\",find_eye(frame))\n",
    "    if cv2.waitKey(1) == 13:\n",
    "        break\n",
    "cap.release()\n",
    "cv2.destroyAllWindows()"
   ]
  },
  {
   "cell_type": "code",
   "execution_count": null,
   "metadata": {},
   "outputs": [],
   "source": [
    "import cv2\n",
    "import numpy as np\n",
    "car_path = r\"C:\\Users\\jayas\\OneDrive\\Desktop\\CNN\\Haarcascades\\haarcascade_car.xml\"\n",
    "car_classifier = cv2.CascadeClassifier(car_path)\n",
    "cap = cv2.VideoCapture(r\"C:\\Users\\jayas\\Downloads\\2103099-uhd_3840_2160_30fps.mp4\")\n",
    "while cap.isOpened():\n",
    "    ret,frame = cap.read()\n",
    "    grey = cv2.cvtColor(frame,cv2.COLOR_BGR2GRAY)\n",
    "    cars = car_classifier.detectMultiScale(grey,1.4,5)\n",
    "    for x,y,w,h in cars:\n",
    "        cv2.rectangle(frame,(x,y),(x+w,y+h),(255,255,0),2)\n",
    "        cv2.imshow(\"Car detector\",frame)\n",
    "    if cv2.waitKey(0) == 13:\n",
    "        break\n",
    "cap.release()\n",
    "\n",
    "cv2.destroyAllWindows()"
   ]
  },
  {
   "cell_type": "code",
   "execution_count": null,
   "metadata": {},
   "outputs": [],
   "source": []
  }
 ],
 "metadata": {
  "kernelspec": {
   "display_name": "Python 3",
   "language": "python",
   "name": "python3"
  },
  "language_info": {
   "codemirror_mode": {
    "name": "ipython",
    "version": 3
   },
   "file_extension": ".py",
   "mimetype": "text/x-python",
   "name": "python",
   "nbconvert_exporter": "python",
   "pygments_lexer": "ipython3",
   "version": "3.12.6"
  }
 },
 "nbformat": 4,
 "nbformat_minor": 2
}
